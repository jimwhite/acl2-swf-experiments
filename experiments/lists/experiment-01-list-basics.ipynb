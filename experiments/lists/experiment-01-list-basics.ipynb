{
 "cells": [
  {
   "cell_type": "raw",
   "id": "41ff08da-c536-471d-b720-a299d20646b2",
   "metadata": {},
   "source": [
    "; Basic list theorems inspired by Software Foundations\n",
    "; Source: https://softwarefoundations.cis.upenn.edu/lf-current/Lists.html\n",
    ";\n",
    "; These theorems parallel the Coq proofs in the Lists chapter,\n",
    "; adapted for ACL2's list operations.\n",
    ";\n",
    "; All theorems now prove successfully using helper lemmas about revappend\n",
    "; and careful theory control to avoid rewrite loops."
   ]
  },
  {
   "cell_type": "code",
   "execution_count": null,
   "id": "ae41d3ad-d54a-49c4-b36c-bb02e6d433dd",
   "metadata": {},
   "outputs": [],
   "source": [
    "(in-package \"ACL2\")"
   ]
  },
  {
   "cell_type": "code",
   "execution_count": null,
   "id": "1c9f7535-497b-49d5-8f74-b7aded0c0f51",
   "metadata": {},
   "outputs": [],
   "source": [
    "; Theorem nil_app: ∀ l, [] ++ l = l\n",
    "; Source: Software Foundations Lists.v, nil_app\n",
    "; In ACL2: (append nil l) = l\n",
    "(defthm nil-app\n",
    "  (implies (true-listp l)\n",
    "           (equal (append nil l) l)))"
   ]
  },
  {
   "cell_type": "code",
   "execution_count": null,
   "id": "aceb23d8-477a-425a-b0fa-37e5dde76641",
   "metadata": {},
   "outputs": [],
   "source": [
    "; Theorem app_assoc: ∀ l1 l2 l3, (l1 ++ l2) ++ l3 = l1 ++ (l2 ++ l3)\n",
    "; Source: Software Foundations Lists.v, app_assoc\n",
    "(defthm app-assoc\n",
    "  (implies (and (true-listp l1)\n",
    "                (true-listp l2)\n",
    "                (true-listp l3))\n",
    "           (equal (append (append l1 l2) l3)\n",
    "                  (append l1 (append l2 l3)))))"
   ]
  },
  {
   "cell_type": "code",
   "execution_count": null,
   "id": "c15ad7a6-7b3e-4581-afb3-2cf5fc727c20",
   "metadata": {},
   "outputs": [],
   "source": [
    "; Helper lemma: length of revappend\n",
    "; ACL2's reverse is defined using revappend, so we need this helper\n",
    "(local\n",
    " (defthm len-revappend\n",
    "   (implies (true-listp acc)\n",
    "            (equal (len (revappend x acc))\n",
    "                   (+ (len x) (len acc))))))\n",
    "\n",
    "; Theorem rev_length: ∀ l, length(rev(l)) = length(l)\n",
    "; Source: Software Foundations Lists.v, rev_length (exercise)\n",
    "(defthm rev-length\n",
    "  (implies (true-listp l)\n",
    "           (equal (len (reverse l))\n",
    "                  (len l))))"
   ]
  },
  {
   "cell_type": "raw",
   "id": "3e86d4d3-2cdd-4ce1-89d7-86ac9699160f",
   "metadata": {},
   "source": [
    "; Helper lemmas for reverse/revappend theorems\n",
    "; These must be proved in order to avoid rewrite loops"
   ]
  },
  {
   "cell_type": "code",
   "execution_count": null,
   "id": "1c422e8a-22d6-412f-9ba6-0861eb8acaae",
   "metadata": {},
   "outputs": [],
   "source": [
    "; Step 1: Basic property of revappend with append\n",
    "(local\n",
    " (defthm append-revappend\n",
    "   (equal (append (revappend x y) z)\n",
    "          (revappend x (append y z)))))"
   ]
  }
 ],
 "metadata": {
  "kernelspec": {
   "display_name": "ACL2",
   "language": "acl2",
   "name": "acl2"
  },
  "language_info": {
   "codemirror_mode": "commonlisp",
   "file_extension": ".lisp",
   "mimetype": "text/x-common-lisp",
   "name": "acl2",
   "pygments_lexer": "common-lisp"
  }
 },
 "nbformat": 4,
 "nbformat_minor": 5
}
