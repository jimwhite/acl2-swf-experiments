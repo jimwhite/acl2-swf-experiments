{
 "cells": [
  {
   "cell_type": "raw",
   "metadata": {},
   "source": [
    "; Higher-Order Functions for Lists\n",
    "; Based on Software Foundations Chapter 5: Polymorphism (Poly)\n",
    ";\n",
    "; This file explores higher-order functions (map, filter, fold) in ACL2.\n",
    "; Since ACL2 is fundamentally first-order, we'll work with concrete types\n",
    "; rather than true polymorphism. We'll use lists of natural numbers as our\n",
    "; primary example type."
   ]
  },
  {
   "cell_type": "code",
   "execution_count": null,
   "metadata": {},
   "outputs": [],
   "source": [
    "(in-package \"ACL2\")"
   ]
  },
  {
   "cell_type": "raw",
   "metadata": {},
   "source": [
    ";;; ==========================================================================\n",
    ";;; Map: Apply a function to every element of a list\n",
    ";;; =========================================================================="
   ]
  },
  {
   "cell_type": "code",
   "execution_count": null,
   "metadata": {},
   "outputs": [],
   "source": [
    "; map-inc: Increment every element in a list\n",
    "(defun map-inc (l)\n",
    "  (declare (xargs :guard (nat-listp l)))\n",
    "  (if (endp l)\n",
    "      nil\n",
    "      (cons (+ 1 (car l))\n",
    "            (map-inc (cdr l)))))"
   ]
  },
  {
   "cell_type": "code",
   "execution_count": null,
   "metadata": {},
   "outputs": [],
   "source": [
    "; map-square: Square every element in a list\n",
    "(defun map-square (l)\n",
    "  (declare (xargs :guard (nat-listp l)))\n",
    "  (if (endp l)\n",
    "      nil\n",
    "      (cons (* (car l) (car l))\n",
    "            (map-square (cdr l)))))"
   ]
  },
  {
   "cell_type": "raw",
   "metadata": {},
   "source": [
    "; General map for natural numbers (ACL2 doesn't have first-class functions,\n",
    "; so we'll prove properties about specific map instances)\n",
    "; For pedagogical purposes, we'll define a generic pattern that specific\n",
    "; maps follow."
   ]
  },
  {
   "cell_type": "raw",
   "metadata": {},
   "source": [
    ";;; ==========================================================================\n",
    ";;; Filter: Keep only elements satisfying a predicate\n",
    ";;; =========================================================================="
   ]
  },
  {
   "cell_type": "code",
   "execution_count": null,
   "metadata": {},
   "outputs": [],
   "source": [
    "; filter-even: Keep only even numbers\n",
    "(defun filter-even (l)\n",
    "  (declare (xargs :guard (nat-listp l)))\n",
    "  (if (endp l)\n",
    "      nil\n",
    "      (if (evenp (car l))\n",
    "          (cons (car l) (filter-even (cdr l)))\n",
    "          (filter-even (cdr l)))))"
   ]
  },
  {
   "cell_type": "code",
   "execution_count": null,
   "metadata": {},
   "outputs": [],
   "source": [
    "; filter-odd: Keep only odd numbers\n",
    "(defun filter-odd (l)\n",
    "  (declare (xargs :guard (nat-listp l)))\n",
    "  (if (endp l)\n",
    "      nil\n",
    "      (if (oddp (car l))\n",
    "          (cons (car l) (filter-odd (cdr l)))\n",
    "          (filter-odd (cdr l)))))"
   ]
  },
  {
   "cell_type": "raw",
   "metadata": {},
   "source": [
    ";;; ==========================================================================\n",
    ";;; Fold: Reduce a list to a single value\n",
    ";;; =========================================================================="
   ]
  },
  {
   "cell_type": "code",
   "execution_count": null,
   "metadata": {},
   "outputs": [],
   "source": [
    "; fold-sum: Sum all elements in a list (fold with + and 0)\n",
    "(defun fold-sum (l)\n",
    "  (declare (xargs :guard (nat-listp l)))\n",
    "  (if (endp l)\n",
    "      0\n",
    "      (+ (car l) (fold-sum (cdr l)))))"
   ]
  },
  {
   "cell_type": "code",
   "execution_count": null,
   "metadata": {},
   "outputs": [],
   "source": [
    "; fold-product: Multiply all elements in a list (fold with * and 1)\n",
    "(defun fold-product (l)\n",
    "  (declare (xargs :guard (nat-listp l)))\n",
    "  (if (endp l)\n",
    "      1\n",
    "      (* (car l) (fold-product (cdr l)))))"
   ]
  },
  {
   "cell_type": "code",
   "execution_count": null,
   "metadata": {},
   "outputs": [],
   "source": [
    "; fold-length: Count elements using fold pattern\n",
    "(defun fold-length (l)\n",
    "  (declare (xargs :guard (true-listp l)))\n",
    "  (if (endp l)\n",
    "      0\n",
    "      (+ 1 (fold-length (cdr l)))))"
   ]
  },
  {
   "cell_type": "raw",
   "metadata": {},
   "source": [
    ";;; ==========================================================================\n",
    ";;; Theorems about Map\n",
    ";;; =========================================================================="
   ]
  },
  {
   "cell_type": "code",
   "execution_count": null,
   "metadata": {},
   "outputs": [],
   "source": [
    "; Theorem: map preserves length\n",
    "(defthm map-inc-preserves-length\n",
    "  (equal (len (map-inc l))\n",
    "         (len l)))"
   ]
  },
  {
   "cell_type": "code",
   "execution_count": null,
   "metadata": {},
   "outputs": [],
   "source": [
    "(defthm map-square-preserves-length\n",
    "  (equal (len (map-square l))\n",
    "         (len l)))"
   ]
  },
  {
   "cell_type": "code",
   "execution_count": null,
   "metadata": {},
   "outputs": [],
   "source": [
    "; Theorem: map distributes over append\n",
    "(defthm map-inc-append\n",
    "  (equal (map-inc (append l1 l2))\n",
    "         (append (map-inc l1) (map-inc l2))))"
   ]
  },
  {
   "cell_type": "code",
   "execution_count": null,
   "metadata": {},
   "outputs": [],
   "source": [
    "(defthm map-square-append\n",
    "  (equal (map-square (append l1 l2))\n",
    "         (append (map-square l1) (map-square l2))))"
   ]
  },
  {
   "cell_type": "raw",
   "metadata": {},
   "source": [
    "; Theorem: map_rev - map distributes over reverse\n",
    "; This is the key theorem from Software Foundations Poly chapter\n",
    "; We need helper lemmas about revappend first"
   ]
  },
  {
   "cell_type": "code",
   "execution_count": null,
   "metadata": {},
   "outputs": [],
   "source": [
    "; Helper: map-inc distributes over revappend\n",
    "(defthm map-inc-revappend\n",
    "  (equal (map-inc (revappend l1 l2))\n",
    "         (revappend (map-inc l1) (map-inc l2))))"
   ]
  },
  {
   "cell_type": "code",
   "execution_count": null,
   "metadata": {},
   "outputs": [],
   "source": [
    "(defthm map-inc-rev\n",
    "  (equal (map-inc (reverse l))\n",
    "         (reverse (map-inc l))))"
   ]
  },
  {
   "cell_type": "code",
   "execution_count": null,
   "metadata": {},
   "outputs": [],
   "source": [
    "; Helper: map-square distributes over revappend\n",
    "(defthm map-square-revappend\n",
    "  (equal (map-square (revappend l1 l2))\n",
    "         (revappend (map-square l1) (map-square l2))))"
   ]
  },
  {
   "cell_type": "code",
   "execution_count": null,
   "metadata": {},
   "outputs": [],
   "source": [
    "(defthm map-square-rev\n",
    "  (equal (map-square (reverse l))\n",
    "         (reverse (map-square l))))"
   ]
  },
  {
   "cell_type": "raw",
   "metadata": {},
   "source": [
    ";;; ==========================================================================\n",
    ";;; Theorems about Filter\n",
    ";;; =========================================================================="
   ]
  },
  {
   "cell_type": "code",
   "execution_count": null,
   "metadata": {},
   "outputs": [],
   "source": [
    "; Theorem: filter preserves or reduces length\n",
    "(defthm filter-even-length-bound\n",
    "  (<= (len (filter-even l)) (len l))\n",
    "  :rule-classes :linear)"
   ]
  },
  {
   "cell_type": "code",
   "execution_count": null,
   "metadata": {},
   "outputs": [],
   "source": [
    "(defthm filter-odd-length-bound\n",
    "  (<= (len (filter-odd l)) (len l))\n",
    "  :rule-classes :linear)"
   ]
  },
  {
   "cell_type": "code",
   "execution_count": null,
   "metadata": {},
   "outputs": [],
   "source": [
    "; Theorem: filtering twice is idempotent\n",
    "(defthm filter-even-idempotent\n",
    "  (implies (nat-listp l)\n",
    "           (equal (filter-even (filter-even l))\n",
    "                  (filter-even l))))"
   ]
  },
  {
   "cell_type": "code",
   "execution_count": null,
   "metadata": {},
   "outputs": [],
   "source": [
    "(defthm filter-odd-idempotent\n",
    "  (implies (nat-listp l)\n",
    "           (equal (filter-odd (filter-odd l))\n",
    "                  (filter-odd l))))"
   ]
  },
  {
   "cell_type": "code",
   "execution_count": null,
   "metadata": {},
   "outputs": [],
   "source": [
    "; Theorem: filter and append\n",
    "(defthm filter-even-append\n",
    "  (equal (filter-even (append l1 l2))\n",
    "         (append (filter-even l1) (filter-even l2))))"
   ]
  },
  {
   "cell_type": "code",
   "execution_count": null,
   "metadata": {},
   "outputs": [],
   "source": [
    "(defthm filter-odd-append\n",
    "  (equal (filter-odd (append l1 l2))\n",
    "         (append (filter-odd l1) (filter-odd l2))))"
   ]
  },
  {
   "cell_type": "raw",
   "metadata": {},
   "source": [
    ";;; ==========================================================================\n",
    ";;; Theorems about Fold\n",
    ";;; =========================================================================="
   ]
  },
  {
   "cell_type": "code",
   "execution_count": null,
   "metadata": {},
   "outputs": [],
   "source": [
    "; Theorem: fold-length is equivalent to built-in len\n",
    "(defthm fold-length-correct\n",
    "  (implies (true-listp l)\n",
    "           (equal (fold-length l)\n",
    "                  (len l))))"
   ]
  },
  {
   "cell_type": "code",
   "execution_count": null,
   "metadata": {},
   "outputs": [],
   "source": [
    "; Theorem: fold-sum of append is sum of fold-sums\n",
    "(defthm fold-sum-append\n",
    "  (implies (and (nat-listp l1)\n",
    "                (nat-listp l2))\n",
    "           (equal (fold-sum (append l1 l2))\n",
    "                  (+ (fold-sum l1) (fold-sum l2)))))"
   ]
  },
  {
   "cell_type": "raw",
   "metadata": {},
   "source": [
    "; Theorem: fold-product of append\n",
    "; This theorem requires advanced arithmetic reasoning about associativity and\n",
    "; commutativity of multiplication. The proof succeeds using selective theory\n",
    "; control: disabling commutativity-of-* globally, then re-enabling it at the\n",
    "; specific subgoal where arithmetic reasoning is needed.\n",
    "; See experiment-02-higher-order-product.lisp for the complete proof."
   ]
  },
  {
   "cell_type": "raw",
   "metadata": {},
   "source": [
    ";;; ==========================================================================\n",
    ";;; Interaction between Map and Fold\n",
    ";;; =========================================================================="
   ]
  },
  {
   "cell_type": "code",
   "execution_count": null,
   "metadata": {},
   "outputs": [],
   "source": [
    "; Theorem: Folding after mapping\n",
    "(defthm fold-sum-map-inc\n",
    "  (implies (nat-listp l)\n",
    "           (equal (fold-sum (map-inc l))\n",
    "                  (+ (fold-sum l) (len l)))))"
   ]
  },
  {
   "cell_type": "raw",
   "metadata": {},
   "source": [
    ";;; ==========================================================================\n",
    ";;; Flat Map: Map followed by concatenation\n",
    ";;; =========================================================================="
   ]
  },
  {
   "cell_type": "code",
   "execution_count": null,
   "metadata": {},
   "outputs": [],
   "source": [
    "; flat-map-repeat: Map each element to a list of copies\n",
    "(defun repeat (n x)\n",
    "  (declare (xargs :guard (natp n)))\n",
    "  (if (zp n)\n",
    "      nil\n",
    "      (cons x (repeat (- n 1) x))))"
   ]
  },
  {
   "cell_type": "code",
   "execution_count": null,
   "metadata": {},
   "outputs": [],
   "source": [
    "(defun flat-map-repeat (l)\n",
    "  (declare (xargs :guard (nat-listp l)))\n",
    "  (if (endp l)\n",
    "      nil\n",
    "      (append (repeat (car l) (car l))\n",
    "              (flat-map-repeat (cdr l)))))"
   ]
  },
  {
   "cell_type": "code",
   "execution_count": null,
   "metadata": {},
   "outputs": [],
   "source": [
    "; Theorem about flat-map\n",
    "(defthm flat-map-repeat-append\n",
    "  (equal (flat-map-repeat (append l1 l2))\n",
    "         (append (flat-map-repeat l1)\n",
    "                 (flat-map-repeat l2))))"
   ]
  }
 ],
 "metadata": {
  "kernelspec": {
   "display_name": "ACL2",
   "language": "acl2",
   "name": "acl2"
  },
  "language_info": {
   "name": "acl2",
   "version": ""
  }
 },
 "nbformat": 4,
 "nbformat_minor": 2
}
