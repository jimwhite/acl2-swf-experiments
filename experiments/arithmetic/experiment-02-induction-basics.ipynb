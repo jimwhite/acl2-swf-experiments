{
 "cells": [
  {
   "cell_type": "raw",
   "metadata": {},
   "source": [
    "; Basic induction theorems inspired by Software Foundations\n",
    "; Source: https://softwarefoundations.cis.upenn.edu/lf-current/Induction.html\n",
    ";\n",
    "; These theorems parallel the Coq proofs in the Induction chapter,\n",
    "; adapted for ACL2's natural number arithmetic."
   ]
  },
  {
   "cell_type": "code",
   "execution_count": null,
   "metadata": {},
   "outputs": [],
   "source": [
    "(in-package \"ACL2\")"
   ]
  },
  {
   "cell_type": "code",
   "execution_count": null,
   "metadata": {},
   "outputs": [],
   "source": [
    "; Theorem add_0_r: ∀ n, n + 0 = n\n",
    "; Source: Software Foundations Induction.v, add_0_r\n",
    "; Note: We need to specify that n is a number in ACL2\n",
    "(defthm add-0-r\n",
    "  (implies (acl2-numberp n)\n",
    "           (equal (+ n 0) n)))"
   ]
  },
  {
   "cell_type": "code",
   "execution_count": null,
   "metadata": {},
   "outputs": [],
   "source": [
    "; Theorem minus_n_n: ∀ n, n - n = 0\n",
    "; Source: Software Foundations Induction.v, minus_n_n\n",
    "(defthm minus-n-n\n",
    "  (implies (acl2-numberp n)\n",
    "           (equal (- n n) 0)))"
   ]
  },
  {
   "cell_type": "code",
   "execution_count": null,
   "metadata": {},
   "outputs": [],
   "source": [
    "; Theorem mul_0_r: ∀ n, n * 0 = 0\n",
    "; Source: Software Foundations Induction.v, mul_0_r (exercise)\n",
    "(defthm mul-0-r\n",
    "  (implies (acl2-numberp n)\n",
    "           (equal (* n 0) 0)))"
   ]
  },
  {
   "cell_type": "code",
   "execution_count": null,
   "metadata": {},
   "outputs": [],
   "source": [
    "; Theorem plus_n_Sm: ∀ n m, S(n + m) = n + S(m)\n",
    "; Source: Software Foundations Induction.v, plus_n_Sm (exercise)\n",
    "; In ACL2: (1+ (+ n m)) = (+ n (1+ m))\n",
    "(defthm plus-n-sm\n",
    "  (implies (and (acl2-numberp n)\n",
    "                (acl2-numberp m))\n",
    "           (equal (+ 1 (+ n m))\n",
    "                  (+ n (+ 1 m)))))"
   ]
  },
  {
   "cell_type": "code",
   "execution_count": null,
   "metadata": {},
   "outputs": [],
   "source": [
    "; Theorem add_comm: ∀ n m, n + m = m + n\n",
    "; Source: Software Foundations Induction.v, add_comm (exercise)\n",
    "; This is already proved as addition-commutative in experiment-01,\n",
    "; but included here for completeness with Software Foundations\n",
    "(defthm add-comm-swf\n",
    "  (implies (and (acl2-numberp n)\n",
    "                (acl2-numberp m))\n",
    "           (equal (+ n m)\n",
    "                  (+ m n))))"
   ]
  },
  {
   "cell_type": "code",
   "execution_count": null,
   "metadata": {},
   "outputs": [],
   "source": [
    "; Theorem add_assoc: ∀ n m p, n + (m + p) = (n + m) + p\n",
    "; Source: Software Foundations Induction.v, add_assoc\n",
    "; Also already proved in experiment-01, included for completeness\n",
    "(defthm add-assoc-swf\n",
    "  (implies (and (acl2-numberp n)\n",
    "                (acl2-numberp m)\n",
    "                (acl2-numberp p))\n",
    "           (equal (+ n (+ m p))\n",
    "                  (+ (+ n m) p))))"
   ]
  }
 ],
 "metadata": {
  "kernelspec": {
   "display_name": "ACL2",
   "language": "acl2",
   "name": "acl2"
  },
  "language_info": {
   "name": "acl2",
   "version": ""
  }
 },
 "nbformat": 4,
 "nbformat_minor": 2
}
