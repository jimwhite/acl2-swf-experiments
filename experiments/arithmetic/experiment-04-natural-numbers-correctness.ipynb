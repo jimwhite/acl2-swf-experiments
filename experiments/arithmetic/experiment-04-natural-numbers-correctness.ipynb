{
 "cells": [
  {
   "cell_type": "raw",
   "metadata": {},
   "source": [
    "; Correctness proofs for natural number encoding\n",
    "; This file contains additional correctness theorems that link the cons-based\n",
    "; nat* encoding to built-in ACL2 arithmetic. These proofs require careful\n",
    "; theory management and work in an interactive session but may be fragile\n",
    "; during book certification.\n",
    ";\n",
    "; This file is separate from experiment-04-natural-numbers.lisp to keep the\n",
    "; main file stable while allowing experimentation with these more advanced proofs."
   ]
  },
  {
   "cell_type": "code",
   "execution_count": null,
   "metadata": {},
   "outputs": [],
   "source": [
    "(in-package \"ACL2\")"
   ]
  },
  {
   "cell_type": "code",
   "execution_count": null,
   "metadata": {},
   "outputs": [],
   "source": [
    "; Include the base natural numbers book\n",
    "(include-book \"experiment-04-natural-numbers\")"
   ]
  },
  {
   "cell_type": "raw",
   "metadata": {},
   "source": [
    ";;; Helper lemmas for correctness proofs"
   ]
  },
  {
   "cell_type": "code",
   "execution_count": null,
   "metadata": {},
   "outputs": [],
   "source": [
    "; We need to explicitly prove that S increments nat*-to-nat by 1\n",
    "; This is marked local since it's subsumed by nat*-to-nat-of-s from the parent book\n",
    "(local\n",
    " (defthm nat*-to-nat-of-s-explicit\n",
    "   (implies (natp* n)\n",
    "            (equal (nat*-to-nat (s n))\n",
    "                   (+ 1 (nat*-to-nat n))))))"
   ]
  },
  {
   "cell_type": "code",
   "execution_count": null,
   "metadata": {},
   "outputs": [],
   "source": [
    "; plus* preserves natp* (needed for type reasoning in correctness proofs)\n",
    "(defthm plus*-preserves-natp*-global\n",
    "  (implies (and (natp* n) (natp* m))\n",
    "           (natp* (plus* n m)))\n",
    "  :hints ((\"Goal\" :in-theory (disable plus*-comm plus*-n-sm))))"
   ]
  },
  {
   "cell_type": "code",
   "execution_count": null,
   "metadata": {},
   "outputs": [],
   "source": [
    "; mult* preserves natp* (needed for type reasoning in correctness proofs)\n",
    "(defthm mult*-preserves-natp*-global\n",
    "  (implies (and (natp* n) (natp* m))\n",
    "           (natp* (mult* n m))))"
   ]
  },
  {
   "cell_type": "raw",
   "metadata": {},
   "source": [
    ";;; Main correctness theorems"
   ]
  },
  {
   "cell_type": "code",
   "execution_count": null,
   "metadata": {},
   "outputs": [],
   "source": [
    "; nat*-to-nat distributes over plus*\n",
    "; This is the key lemma for proving plus*-correct\n",
    "; We need to disable S to prevent premature expansion and use our local lemma\n",
    "(defthm nat*-to-nat-of-plus*\n",
    "  (implies (and (natp* n) (natp* m))\n",
    "           (equal (nat*-to-nat (plus* n m))\n",
    "                  (+ (nat*-to-nat n) (nat*-to-nat m))))\n",
    "  :hints ((\"Goal\" :in-theory (disable s)\n",
    "                  :induct (plus* n m))))"
   ]
  },
  {
   "cell_type": "code",
   "execution_count": null,
   "metadata": {},
   "outputs": [],
   "source": [
    "; plus* correctly implements addition\n",
    "; This proves that our encoding is correct with respect to built-in arithmetic\n",
    "(defthm plus*-correct\n",
    "  (implies (and (natp n) (natp m))\n",
    "           (equal (nat*-to-nat (plus* (nat-to-nat* n) (nat-to-nat* m)))\n",
    "                  (+ n m))))"
   ]
  },
  {
   "cell_type": "code",
   "execution_count": null,
   "metadata": {},
   "outputs": [],
   "source": [
    "; nat*-to-nat distributes over mult*\n",
    "; This is the key lemma for proving mult*-correct\n",
    "; We need to disable S to prevent premature expansion\n",
    "(defthm nat*-to-nat-of-mult*\n",
    "  (implies (and (natp* n) (natp* m))\n",
    "           (equal (nat*-to-nat (mult* n m))\n",
    "                  (* (nat*-to-nat n) (nat*-to-nat m))))\n",
    "  :hints ((\"Goal\" :in-theory (disable s))))"
   ]
  },
  {
   "cell_type": "code",
   "execution_count": null,
   "metadata": {},
   "outputs": [],
   "source": [
    "; mult* correctly implements multiplication\n",
    "; This proves that multiplication in our encoding matches built-in multiplication\n",
    "(defthm mult*-correct\n",
    "  (implies (and (natp n) (natp m))\n",
    "           (equal (nat*-to-nat (mult* (nat-to-nat* n) (nat-to-nat* m)))\n",
    "                  (* n m))))"
   ]
  }
 ],
 "metadata": {
  "kernelspec": {
   "display_name": "ACL2",
   "language": "acl2",
   "name": "acl2"
  },
  "language_info": {
   "name": "acl2",
   "version": ""
  }
 },
 "nbformat": 4,
 "nbformat_minor": 2
}
