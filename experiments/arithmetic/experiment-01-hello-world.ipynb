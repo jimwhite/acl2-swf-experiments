{
 "cells": [
  {
   "cell_type": "raw",
   "metadata": {},
   "source": [
    "; ACL2 Hello World - Basic arithmetic theorem\n",
    "; This demonstrates a simple proof that addition is commutative"
   ]
  },
  {
   "cell_type": "code",
   "execution_count": null,
   "metadata": {},
   "outputs": [],
   "source": [
    "(in-package \"ACL2\")"
   ]
  },
  {
   "cell_type": "code",
   "execution_count": null,
   "metadata": {},
   "outputs": [],
   "source": [
    "; A simple theorem: addition is commutative\n",
    "; ACL2 can prove this automatically\n",
    "(defthm addition-commutative\n",
    "  (equal (+ x y)\n",
    "         (+ y x)))"
   ]
  },
  {
   "cell_type": "code",
   "execution_count": null,
   "metadata": {},
   "outputs": [],
   "source": [
    "; Another basic theorem: associativity of addition\n",
    "(defthm addition-associative\n",
    "  (equal (+ (+ x y) z)\n",
    "         (+ x (+ y z))))"
   ]
  },
  {
   "cell_type": "code",
   "execution_count": null,
   "metadata": {},
   "outputs": [],
   "source": [
    "; A slightly more interesting theorem\n",
    "; Need to specify that x is a number (ACL2's + is defined on all ACL2 objects)\n",
    "(defthm add-zero\n",
    "  (implies (acl2-numberp x)\n",
    "           (equal (+ x 0)\n",
    "                  x)))"
   ]
  },
  {
   "cell_type": "code",
   "execution_count": null,
   "metadata": {},
   "outputs": [],
   "source": [
    "; Double a number is the same as adding it to itself\n",
    "(defthm double-is-add\n",
    "  (equal (* 2 x)\n",
    "         (+ x x)))"
   ]
  }
 ],
 "metadata": {
  "kernelspec": {
   "display_name": "ACL2",
   "language": "acl2",
   "name": "acl2"
  },
  "language_info": {
   "name": "acl2",
   "version": ""
  }
 },
 "nbformat": 4,
 "nbformat_minor": 2
}
