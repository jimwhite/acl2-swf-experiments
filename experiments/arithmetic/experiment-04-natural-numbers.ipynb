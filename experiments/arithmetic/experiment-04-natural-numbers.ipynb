{
 "cells": [
  {
   "cell_type": "raw",
   "metadata": {},
   "source": [
    "; Natural numbers from first principles, following Software Foundations\n",
    "; Source: https://softwarefoundations.cis.upenn.edu/lf-current/Basics.html\n",
    ";\n",
    "; In Software Foundations, natural numbers are defined inductively:\n",
    ";   Inductive nat : Type :=\n",
    ";     | O : nat\n",
    ";     | S : nat → nat.\n",
    ";\n",
    "; In ACL2, we encode this as a recursive data structure:\n",
    ";   - 0 represents O (zero)\n",
    ";   - (cons 'S n) represents S(n) (successor)"
   ]
  },
  {
   "cell_type": "code",
   "execution_count": null,
   "metadata": {},
   "outputs": [],
   "source": [
    "(in-package \"ACL2\")"
   ]
  },
  {
   "cell_type": "raw",
   "metadata": {},
   "source": [
    ";;; Data structure for natural numbers"
   ]
  },
  {
   "cell_type": "code",
   "execution_count": null,
   "metadata": {},
   "outputs": [],
   "source": [
    "; Recognizer: is this a natural number in our encoding?\n",
    "(defun natp* (n)\n",
    "  (if (equal n 0)\n",
    "      t\n",
    "      (and (consp n)\n",
    "           (equal (car n) 'S)\n",
    "           (natp* (cdr n)))))"
   ]
  },
  {
   "cell_type": "code",
   "execution_count": null,
   "metadata": {},
   "outputs": [],
   "source": [
    "; Constructor: O (zero)\n",
    "(defun O ()\n",
    "  0)"
   ]
  },
  {
   "cell_type": "code",
   "execution_count": null,
   "metadata": {},
   "outputs": [],
   "source": [
    "; Constructor: S (successor)\n",
    "(defun S (n)\n",
    "  (declare (xargs :guard (natp* n)\n",
    "                  :verify-guards nil))\n",
    "  (cons 'S n))"
   ]
  },
  {
   "cell_type": "raw",
   "metadata": {},
   "source": [
    ";;; Operations on our natural numbers"
   ]
  },
  {
   "cell_type": "code",
   "execution_count": null,
   "metadata": {},
   "outputs": [],
   "source": [
    "; Addition: defined recursively\n",
    "; In Coq: Fixpoint plus (n : nat) (m : nat) : nat :=\n",
    ";   match n with\n",
    ";   | O => m\n",
    ";   | S n' => S (plus n' m)\n",
    ";   end.\n",
    "(defun plus* (n m)\n",
    "  (declare (xargs :guard (and (natp* n) (natp* m))\n",
    "                  :verify-guards nil))\n",
    "  (if (or (not (natp* n)) (equal n 0))\n",
    "      m\n",
    "      (S (plus* (cdr n) m))))"
   ]
  },
  {
   "cell_type": "code",
   "execution_count": null,
   "metadata": {},
   "outputs": [],
   "source": [
    "; Multiplication: defined recursively\n",
    "; In Coq: Fixpoint mult (n m : nat) : nat :=\n",
    ";   match n with\n",
    ";   | O => O\n",
    ";   | S n' => plus m (mult n' m)\n",
    ";   end.\n",
    "(defun mult* (n m)\n",
    "  (declare (xargs :guard (and (natp* n) (natp* m))\n",
    "                  :verify-guards nil))\n",
    "  (if (or (not (natp* n)) (equal n 0))\n",
    "      0\n",
    "      (plus* m (mult* (cdr n) m))))"
   ]
  },
  {
   "cell_type": "raw",
   "metadata": {},
   "source": [
    ";;; Conversion functions to/from built-in naturals"
   ]
  },
  {
   "cell_type": "code",
   "execution_count": null,
   "metadata": {},
   "outputs": [],
   "source": [
    "; Convert built-in natural to our representation\n",
    "(defun nat-to-nat* (n)\n",
    "  (declare (xargs :guard (natp n)\n",
    "                  :verify-guards nil))\n",
    "  (if (zp n)\n",
    "      0\n",
    "      (S (nat-to-nat* (- n 1)))))"
   ]
  },
  {
   "cell_type": "code",
   "execution_count": null,
   "metadata": {},
   "outputs": [],
   "source": [
    "; Convert our representation to built-in natural\n",
    "(defun nat*-to-nat (n)\n",
    "  (declare (xargs :guard (natp* n)\n",
    "                  :verify-guards nil))\n",
    "  (if (or (not (natp* n)) (equal n 0))\n",
    "      0\n",
    "      (+ 1 (nat*-to-nat (cdr n)))))"
   ]
  },
  {
   "cell_type": "raw",
   "metadata": {},
   "source": [
    ";;; Theorems: SWF Chapter \"Basics\""
   ]
  },
  {
   "cell_type": "code",
   "execution_count": null,
   "metadata": {},
   "outputs": [],
   "source": [
    "; Theorem plus_O_n: ∀ n, 0 + n = n\n",
    "; Source: Software Foundations Basics.v, plus_O_n\n",
    "(defthm plus*-O-n\n",
    "  (implies (natp* n)\n",
    "           (equal (plus* 0 n) n)))"
   ]
  },
  {
   "cell_type": "code",
   "execution_count": null,
   "metadata": {},
   "outputs": [],
   "source": [
    "; Theorem plus_1_l: ∀ n, 1 + n = S n\n",
    "; Source: Software Foundations Basics.v, plus_1_l\n",
    "(defthm plus*-1-l\n",
    "  (implies (natp* n)\n",
    "           (equal (plus* (S 0) n)\n",
    "                  (S n))))"
   ]
  },
  {
   "cell_type": "code",
   "execution_count": null,
   "metadata": {},
   "outputs": [],
   "source": [
    "; Theorem mult_0_l: ∀ n, 0 * n = 0\n",
    "; Source: Software Foundations Basics.v, mult_0_l\n",
    "(defthm mult*-0-l\n",
    "  (implies (natp* n)\n",
    "           (equal (mult* 0 n) 0)))"
   ]
  },
  {
   "cell_type": "code",
   "execution_count": null,
   "metadata": {},
   "outputs": [],
   "source": [
    "; Theorem plus_id_exercise: ∀ n m, n = m → n + n = m + m\n",
    "; Source: Software Foundations Basics.v, plus_id_exercise\n",
    "(defthm plus*-id-exercise\n",
    "  (implies (and (natp* n)\n",
    "                (natp* m)\n",
    "                (equal n m))\n",
    "           (equal (plus* n n)\n",
    "                  (plus* m m))))"
   ]
  },
  {
   "cell_type": "raw",
   "metadata": {},
   "source": [
    ";;; Theorems: SWF Chapter \"Induction\""
   ]
  },
  {
   "cell_type": "code",
   "execution_count": null,
   "metadata": {},
   "outputs": [],
   "source": [
    "; Theorem plus_n_O: ∀ n, n + 0 = n\n",
    "; Source: Software Foundations Induction.v, plus_n_O\n",
    "(defthm plus*-n-O\n",
    "  (implies (natp* n)\n",
    "           (equal (plus* n 0) n)))"
   ]
  },
  {
   "cell_type": "code",
   "execution_count": null,
   "metadata": {},
   "outputs": [],
   "source": [
    "; Theorem mult_0_r: ∀ n, n * 0 = 0\n",
    "; Source: Software Foundations Induction.v, mult_0_r\n",
    "(defthm mult*-0-r\n",
    "  (implies (natp* n)\n",
    "           (equal (mult* n 0) 0)))"
   ]
  },
  {
   "cell_type": "code",
   "execution_count": null,
   "metadata": {},
   "outputs": [],
   "source": [
    "; Theorem plus_n_Sm: ∀ n m, S(n + m) = n + S(m)\n",
    "; Source: Software Foundations Induction.v, plus_n_Sm\n",
    "(defthm plus*-n-Sm\n",
    "  (implies (and (natp* n)\n",
    "                (natp* m))\n",
    "           (equal (S (plus* n m))\n",
    "                  (plus* n (S m)))))"
   ]
  },
  {
   "cell_type": "code",
   "execution_count": null,
   "metadata": {},
   "outputs": [],
   "source": [
    "; Theorem plus_comm: ∀ n m, n + m = m + n\n",
    "; Source: Software Foundations Induction.v, plus_comm\n",
    "(defthm plus*-comm\n",
    "  (implies (and (natp* n)\n",
    "                (natp* m))\n",
    "           (equal (plus* n m)\n",
    "                  (plus* m n))))"
   ]
  },
  {
   "cell_type": "raw",
   "metadata": {},
   "source": [
    ";;; Correctness theorems: our operations match built-in arithmetic"
   ]
  },
  {
   "cell_type": "code",
   "execution_count": null,
   "metadata": {},
   "outputs": [],
   "source": [
    "; Helper: natp* implies the conversion produces natp\n",
    "(defthm nat*-to-nat-is-natp\n",
    "  (implies (natp* n)\n",
    "           (natp (nat*-to-nat n))))"
   ]
  },
  {
   "cell_type": "code",
   "execution_count": null,
   "metadata": {},
   "outputs": [],
   "source": [
    "; Helper: S produces valid natp*\n",
    "(local\n",
    " (defthm s-preserves-natp*\n",
    "   (implies (natp* n)\n",
    "            (natp* (S n)))))"
   ]
  },
  {
   "cell_type": "code",
   "execution_count": null,
   "metadata": {},
   "outputs": [],
   "source": [
    "; Helper: S increments the natural number representation\n",
    "(local\n",
    " (defthm nat*-to-nat-of-s\n",
    "   (implies (natp* n)\n",
    "            (equal (nat*-to-nat (S n))\n",
    "                   (+ 1 (nat*-to-nat n))))))"
   ]
  },
  {
   "cell_type": "code",
   "execution_count": null,
   "metadata": {},
   "outputs": [],
   "source": [
    "; Helper: plus* produces valid natp*\n",
    "(local\n",
    " (defthm plus*-preserves-natp*\n",
    "   (implies (and (natp* n) (natp* m))\n",
    "            (natp* (plus* n m)))\n",
    "   :hints ((\"Goal\" :in-theory (disable plus*-comm plus*-n-sm)))))"
   ]
  },
  {
   "cell_type": "code",
   "execution_count": null,
   "metadata": {},
   "outputs": [],
   "source": [
    "; Helper: nat-to-nat* produces valid natp*\n",
    "(defthm nat-to-nat*-is-natp*\n",
    "  (implies (natp n)\n",
    "           (natp* (nat-to-nat* n))))"
   ]
  },
  {
   "cell_type": "raw",
   "metadata": {},
   "source": [
    ";;; Correctness theorems: linking cons-based nat* operations to built-in arithmetic"
   ]
  },
  {
   "cell_type": "code",
   "execution_count": null,
   "metadata": {},
   "outputs": [],
   "source": [
    "; Helper: conversion round-trip preserves values\n",
    "(defthm nat*-to-nat-of-nat-to-nat*\n",
    "  (implies (natp n)\n",
    "           (equal (nat*-to-nat (nat-to-nat* n))\n",
    "                  n)))"
   ]
  },
  {
   "cell_type": "raw",
   "metadata": {},
   "source": [
    "; NOTE: Additional correctness theorems that prove plus* and mult* correctly\n",
    "; implement built-in ACL2 arithmetic are available in the companion file:\n",
    ";   experiment-04-natural-numbers-correctness.lisp\n",
    ";\n",
    "; That file proves:\n",
    ";  - plus*-preserves-natp*-global: plus* preserves the natp* type\n",
    ";  - mult*-preserves-natp*-global: mult* preserves the natp* type\n",
    ";  - nat*-to-nat-of-plus*: nat*-to-nat distributes over plus*\n",
    ";  - plus*-correct: plus* correctly implements addition\n",
    ";  - nat*-to-nat-of-mult*: nat*-to-nat distributes over mult*\n",
    ";  - mult*-correct: mult* correctly implements multiplication\n",
    ";\n",
    "; These proofs require careful theory management (disabling the S constructor\n",
    "; during rewriting) and are kept separate to maintain stability of this base file."
   ]
  }
 ],
 "metadata": {
  "kernelspec": {
   "display_name": "ACL2",
   "language": "acl2",
   "name": "acl2"
  },
  "language_info": {
   "name": "acl2",
   "version": ""
  }
 },
 "nbformat": 4,
 "nbformat_minor": 2
}
