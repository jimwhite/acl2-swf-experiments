{
 "cells": [
  {
   "cell_type": "raw",
   "metadata": {},
   "source": [
    "; Basic arithmetic theorems from Software Foundations Basics chapter\n",
    "; Source: https://softwarefoundations.cis.upenn.edu/lf-current/Basics.html\n",
    ";\n",
    "; These theorems demonstrate fundamental properties of natural numbers\n",
    "; and basic arithmetic operations."
   ]
  },
  {
   "cell_type": "code",
   "execution_count": null,
   "metadata": {},
   "outputs": [],
   "source": [
    "(in-package \"ACL2\")"
   ]
  },
  {
   "cell_type": "code",
   "execution_count": null,
   "metadata": {},
   "outputs": [],
   "source": [
    "; Theorem plus_O_n: ∀ n, 0 + n = n\n",
    "; Source: Software Foundations Basics.v, plus_O_n\n",
    "; Left identity of addition\n",
    "(defthm plus-0-n\n",
    "  (implies (acl2-numberp n)\n",
    "           (equal (+ 0 n) n)))"
   ]
  },
  {
   "cell_type": "code",
   "execution_count": null,
   "metadata": {},
   "outputs": [],
   "source": [
    "; Theorem plus_1_l: ∀ n, 1 + n = S n\n",
    "; Source: Software Foundations Basics.v, plus_1_l\n",
    "; Note: ACL2 doesn't have a separate successor function like Coq's S.\n",
    "; The equivalent property in ACL2 is commutativity of addition with 1.\n",
    "(defthm plus-1-l\n",
    "  (implies (acl2-numberp n)\n",
    "           (equal (+ 1 n) (+ n 1))))"
   ]
  },
  {
   "cell_type": "code",
   "execution_count": null,
   "metadata": {},
   "outputs": [],
   "source": [
    "; Theorem mult_0_l: ∀ n, 0 * n = 0\n",
    "; Source: Software Foundations Basics.v, mult_0_l\n",
    "; Left zero of multiplication\n",
    "(defthm mult-0-l\n",
    "  (implies (acl2-numberp n)\n",
    "           (equal (* 0 n) 0)))"
   ]
  },
  {
   "cell_type": "code",
   "execution_count": null,
   "metadata": {},
   "outputs": [],
   "source": [
    "; Theorem mult_n_1: ∀ n, n * 1 = n\n",
    "; Source: Software Foundations Basics.v, mult_n_1 (exercise)\n",
    "; Right identity of multiplication\n",
    "(defthm mult-n-1\n",
    "  (implies (acl2-numberp n)\n",
    "           (equal (* n 1) n)))"
   ]
  },
  {
   "cell_type": "code",
   "execution_count": null,
   "metadata": {},
   "outputs": [],
   "source": [
    "; Additional theorem: left identity of multiplication\n",
    "(defthm mult-1-n\n",
    "  (implies (acl2-numberp n)\n",
    "           (equal (* 1 n) n)))"
   ]
  },
  {
   "cell_type": "code",
   "execution_count": null,
   "metadata": {},
   "outputs": [],
   "source": [
    "; Theorem: multiplication by 2\n",
    "(defthm mult-2-n\n",
    "  (implies (acl2-numberp n)\n",
    "           (equal (* 2 n) (+ n n))))"
   ]
  },
  {
   "cell_type": "code",
   "execution_count": null,
   "metadata": {},
   "outputs": [],
   "source": [
    "; Theorem: commutativity of multiplication\n",
    "(defthm mult-comm\n",
    "  (implies (and (acl2-numberp n)\n",
    "                (acl2-numberp m))\n",
    "           (equal (* n m) (* m n))))"
   ]
  },
  {
   "cell_type": "code",
   "execution_count": null,
   "metadata": {},
   "outputs": [],
   "source": [
    "; Theorem: associativity of multiplication\n",
    "(defthm mult-assoc\n",
    "  (implies (and (acl2-numberp n)\n",
    "                (acl2-numberp m)\n",
    "                (acl2-numberp p))\n",
    "           (equal (* n (* m p))\n",
    "                  (* (* n m) p))))"
   ]
  },
  {
   "cell_type": "code",
   "execution_count": null,
   "metadata": {},
   "outputs": [],
   "source": [
    "; Theorem: distributivity of multiplication over addition (left)\n",
    "; ∀ n m p, n * (m + p) = n * m + n * p\n",
    "(defthm mult-plus-distr-l\n",
    "  (implies (and (acl2-numberp n)\n",
    "                (acl2-numberp m)\n",
    "                (acl2-numberp p))\n",
    "           (equal (* n (+ m p))\n",
    "                  (+ (* n m) (* n p)))))"
   ]
  },
  {
   "cell_type": "code",
   "execution_count": null,
   "metadata": {},
   "outputs": [],
   "source": [
    "; Theorem: distributivity of multiplication over addition (right)\n",
    "; ∀ n m p, (m + p) * n = m * n + p * n\n",
    "(defthm mult-plus-distr-r\n",
    "  (implies (and (acl2-numberp n)\n",
    "                (acl2-numberp m)\n",
    "                (acl2-numberp p))\n",
    "           (equal (* (+ m p) n)\n",
    "                  (+ (* m n) (* p n)))))"
   ]
  }
 ],
 "metadata": {
  "kernelspec": {
   "display_name": "ACL2",
   "language": "acl2",
   "name": "acl2"
  },
  "language_info": {
   "name": "acl2",
   "version": ""
  }
 },
 "nbformat": 4,
 "nbformat_minor": 2
}
